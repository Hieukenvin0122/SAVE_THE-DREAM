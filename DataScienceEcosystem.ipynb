{
 "cells": [
  {
   "cell_type": "markdown",
   "id": "df170626-4c89-4b3f-be6d-0b96ba9d7b94",
   "metadata": {},
   "source": [
    "# Data Science Tools and Ecosystem \n"
   ]
  },
  {
   "cell_type": "markdown",
   "id": "77f75cba-378b-4f3d-bb7b-a9144c26327d",
   "metadata": {},
   "source": [
    "## In this notebook, Data Science Tools and Ecosystem are summarized:\n",
    "**Objectives**\n",
    "* Identify in which Kernel your Jupyter notebook is running\n",
    "* Create headings, and add text in bold and italics in Markdown\n",
    "* Insert links and images using Markdown\n",
    "* Create Tables in Markdown\n",
    "* Create ordered and unordered lists in Markdown\n",
    "* Demonstrate your proficiency in using Markdown in Jupyter Notebooks"
   ]
  },
  {
   "cell_type": "markdown",
   "id": "9e43ffe6-00c1-4f16-8cd7-f4cb2df19bbf",
   "metadata": {},
   "source": [
    "### Some of the popular languages that Data Scientists use are:\n",
    "1. Pyhton\n",
    "2. R\n",
    "3. C++\n",
    "4. C#"
   ]
  },
  {
   "cell_type": "markdown",
   "id": "8e880308-8806-4b35-ad20-b2d2c4650d55",
   "metadata": {},
   "source": [
    "### Some of the commonly used libraries used by Data Scientists include:\n",
    "1. matplotlib\n",
    "2. Numpy\n",
    "3. Pandas"
   ]
  },
  {
   "cell_type": "markdown",
   "id": "56224553-a43a-40d5-888d-cf5aa0401ff9",
   "metadata": {},
   "source": [
    "\n",
    "| Data Science Tools | \n",
    "| -------------| \n",
    "| Weka | \n",
    "| Scrapy | \n",
    "| Pandas | "
   ]
  },
  {
   "cell_type": "markdown",
   "id": "58c17b77-cb9c-47ab-924b-f3f89e51000e",
   "metadata": {},
   "source": [
    "### Below are a few examples of evaluating arithmetic expressions in Python"
   ]
  },
  {
   "cell_type": "code",
   "execution_count": 1,
   "id": "3770c3eb-8c1d-43a4-bef1-b811b0833a0d",
   "metadata": {},
   "outputs": [
    {
     "data": {
      "text/plain": [
       "17"
      ]
     },
     "execution_count": 1,
     "metadata": {},
     "output_type": "execute_result"
    }
   ],
   "source": [
    "#evaluate the expression (3*4)+5\n",
    "(3*4)+5"
   ]
  },
  {
   "cell_type": "code",
   "execution_count": 3,
   "id": "fb24c857-d1ad-4ba2-88a3-a9649410d762",
   "metadata": {},
   "outputs": [
    {
     "data": {
      "text/plain": [
       "33.333333333333336"
      ]
     },
     "execution_count": 3,
     "metadata": {},
     "output_type": "execute_result"
    }
   ],
   "source": [
    "#In this code cell write an expression that converts 200 minutes into hours\n",
    "200/6"
   ]
  },
  {
   "cell_type": "markdown",
   "id": "b14abebc-91c1-442b-8dd9-9336d99337a8",
   "metadata": {},
   "source": [
    "## Author\n",
    "Nguyen Minh Hieu"
   ]
  },
  {
   "cell_type": "code",
   "execution_count": null,
   "id": "33afb278-b022-4258-a4f9-98b0bf3d4d9f",
   "metadata": {},
   "outputs": [],
   "source": []
  }
 ],
 "metadata": {
  "kernelspec": {
   "display_name": "Python 3 (ipykernel)",
   "language": "python",
   "name": "python3"
  },
  "language_info": {
   "codemirror_mode": {
    "name": "ipython",
    "version": 3
   },
   "file_extension": ".py",
   "mimetype": "text/x-python",
   "name": "python",
   "nbconvert_exporter": "python",
   "pygments_lexer": "ipython3",
   "version": "3.12.6"
  }
 },
 "nbformat": 4,
 "nbformat_minor": 5
}
